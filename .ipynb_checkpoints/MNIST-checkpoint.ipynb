{
 "cells": [
  {
   "cell_type": "code",
   "execution_count": 1,
   "metadata": {},
   "outputs": [
    {
     "name": "stderr",
     "output_type": "stream",
     "text": [
      "Using TensorFlow backend.\n"
     ]
    }
   ],
   "source": [
    "from keras.datasets import mnist\n",
    "import os\n",
    "\n",
    "os.environ['KMP_DUPLICATE_LIB_OK']='True'"
   ]
  },
  {
   "cell_type": "code",
   "execution_count": 2,
   "metadata": {},
   "outputs": [],
   "source": [
    "(x_train , y_train), (x_test , y_test) = mnist.load_data()"
   ]
  },
  {
   "cell_type": "code",
   "execution_count": 3,
   "metadata": {},
   "outputs": [
    {
     "data": {
      "text/plain": [
       "(60000, 28, 28)"
      ]
     },
     "execution_count": 3,
     "metadata": {},
     "output_type": "execute_result"
    }
   ],
   "source": [
    "x_train.shape"
   ]
  },
  {
   "cell_type": "code",
   "execution_count": 4,
   "metadata": {},
   "outputs": [
    {
     "data": {
      "text/plain": [
       "(60000,)"
      ]
     },
     "execution_count": 4,
     "metadata": {},
     "output_type": "execute_result"
    }
   ],
   "source": [
    "y_train.shape"
   ]
  },
  {
   "cell_type": "code",
   "execution_count": 5,
   "metadata": {},
   "outputs": [
    {
     "data": {
      "text/plain": [
       "(10000, 28, 28)"
      ]
     },
     "execution_count": 5,
     "metadata": {},
     "output_type": "execute_result"
    }
   ],
   "source": [
    "x_test.shape"
   ]
  },
  {
   "cell_type": "code",
   "execution_count": 6,
   "metadata": {},
   "outputs": [
    {
     "data": {
      "text/plain": [
       "(10000,)"
      ]
     },
     "execution_count": 6,
     "metadata": {},
     "output_type": "execute_result"
    }
   ],
   "source": [
    "y_test.shape"
   ]
  },
  {
   "cell_type": "code",
   "execution_count": 7,
   "metadata": {},
   "outputs": [
    {
     "data": {
      "text/plain": [
       "array([5, 0, 4, ..., 5, 6, 8], dtype=uint8)"
      ]
     },
     "execution_count": 7,
     "metadata": {},
     "output_type": "execute_result"
    }
   ],
   "source": [
    "y_train"
   ]
  },
  {
   "cell_type": "code",
   "execution_count": 8,
   "metadata": {},
   "outputs": [
    {
     "data": {
      "text/plain": [
       "array([0., 0., 0., 0., 0., 1., 0., 0., 0., 0.], dtype=float32)"
      ]
     },
     "execution_count": 8,
     "metadata": {},
     "output_type": "execute_result"
    }
   ],
   "source": [
    "# One hot encode the target sets\n",
    "\n",
    "from keras.utils import to_categorical\n",
    "y_train = to_categorical(y_train)\n",
    "y_test = to_categorical(y_test)\n",
    "\n",
    "y_train[0]"
   ]
  },
  {
   "cell_type": "code",
   "execution_count": 9,
   "metadata": {},
   "outputs": [
    {
     "data": {
      "text/plain": [
       "<matplotlib.image.AxesImage at 0x64003a890>"
      ]
     },
     "execution_count": 9,
     "metadata": {},
     "output_type": "execute_result"
    },
    {
     "data": {
      "image/png": "[encoded data removed]",
      "text/plain": [
       "<Figure size 432x288 with 1 Axes>"
      ]
     },
     "metadata": {
      "needs_background": "light"
     },
     "output_type": "display_data"
    }
   ],
   "source": [
    "import matplotlib.pyplot as plt\n",
    "plt.imshow(x_train[1],cmap='gray')"
   ]
  },
  {
   "cell_type": "code",
   "execution_count": 10,
   "metadata": {},
   "outputs": [
    {
     "data": {
      "text/plain": [
       "(28, 28)"
      ]
     },
     "execution_count": 10,
     "metadata": {},
     "output_type": "execute_result"
    }
   ],
   "source": [
    "x_train[0].shape"
   ]
  },
  {
   "cell_type": "code",
   "execution_count": 11,
   "metadata": {},
   "outputs": [],
   "source": [
    "#reshape data to fit model\n",
    "x_train = x_train.reshape(60000,28,28,1)\n",
    "x_test = x_test.reshape(10000,28,28,1)"
   ]
  },
  {
   "cell_type": "code",
   "execution_count": 12,
   "metadata": {},
   "outputs": [
    {
     "data": {
      "text/plain": [
       "(60000, 28, 28, 1)"
      ]
     },
     "execution_count": 12,
     "metadata": {},
     "output_type": "execute_result"
    }
   ],
   "source": [
    "x_train.shape"
   ]
  },
  {
   "cell_type": "markdown",
   "metadata": {},
   "source": [
    "## Normal Architecture"
   ]
  },
  {
   "cell_type": "code",
   "execution_count": 29,
   "metadata": {},
   "outputs": [],
   "source": [
    "from keras.models import Sequential\n",
    "from keras.layers import Conv2D,Flatten,Dense,AvgPool2D"
   ]
  },
  {
   "cell_type": "code",
   "execution_count": 14,
   "metadata": {},
   "outputs": [],
   "source": [
    "model = Sequential()"
   ]
  },
  {
   "cell_type": "code",
   "execution_count": 15,
   "metadata": {},
   "outputs": [],
   "source": [
    "model.add(Conv2D(64,3,activation='relu',input_shape=(28,28,1)))"
   ]
  },
  {
   "cell_type": "code",
   "execution_count": 16,
   "metadata": {},
   "outputs": [],
   "source": [
    "model.add(Conv2D(32,5,activation='relu'))"
   ]
  },
  {
   "cell_type": "code",
   "execution_count": 17,
   "metadata": {},
   "outputs": [],
   "source": [
    "model.add(Flatten())\n",
    "model.add(Dense(10,activation='softmax'))"
   ]
  },
  {
   "cell_type": "code",
   "execution_count": 18,
   "metadata": {},
   "outputs": [],
   "source": [
    "model.compile(optimizer='adam',loss='categorical_crossentropy',metrics=['accuracy'])"
   ]
  },
  {
   "cell_type": "code",
   "execution_count": 20,
   "metadata": {},
   "outputs": [
    {
     "name": "stdout",
     "output_type": "stream",
     "text": [
      "Train on 60000 samples, validate on 10000 samples\n",
      "Epoch 1/15\n",
      "60000/60000 [==============================] - 105s 2ms/step - loss: 0.0857 - accuracy: 0.9736 - val_loss: 0.0935 - val_accuracy: 0.9718\n",
      "Epoch 2/15\n",
      "60000/60000 [==============================] - 105s 2ms/step - loss: 0.0626 - accuracy: 0.9814 - val_loss: 0.1044 - val_accuracy: 0.9716\n",
      "Epoch 3/15\n",
      "60000/60000 [==============================] - 105s 2ms/step - loss: 0.0515 - accuracy: 0.9840 - val_loss: 0.0899 - val_accuracy: 0.9765\n",
      "Epoch 4/15\n",
      "60000/60000 [==============================] - 105s 2ms/step - loss: 0.0412 - accuracy: 0.9873 - val_loss: 0.1010 - val_accuracy: 0.9751\n",
      "Epoch 5/15\n",
      "60000/60000 [==============================] - 106s 2ms/step - loss: 0.0355 - accuracy: 0.9894 - val_loss: 0.1007 - val_accuracy: 0.9781\n",
      "Epoch 6/15\n",
      "60000/60000 [==============================] - 106s 2ms/step - loss: 0.0297 - accuracy: 0.9911 - val_loss: 0.1259 - val_accuracy: 0.9742\n",
      "Epoch 7/15\n",
      "60000/60000 [==============================] - 106s 2ms/step - loss: 0.0266 - accuracy: 0.9925 - val_loss: 0.1202 - val_accuracy: 0.9788\n",
      "Epoch 8/15\n",
      "60000/60000 [==============================] - 2361s 39ms/step - loss: 0.0243 - accuracy: 0.9928 - val_loss: 0.1678 - val_accuracy: 0.9731\n",
      "Epoch 9/15\n",
      "60000/60000 [==============================] - 106s 2ms/step - loss: 0.0209 - accuracy: 0.9945 - val_loss: 0.1564 - val_accuracy: 0.9790\n",
      "Epoch 10/15\n",
      "60000/60000 [==============================] - 105s 2ms/step - loss: 0.0225 - accuracy: 0.9941 - val_loss: 0.1670 - val_accuracy: 0.9780\n",
      "Epoch 11/15\n",
      "60000/60000 [==============================] - 104s 2ms/step - loss: 0.0208 - accuracy: 0.9949 - val_loss: 0.2485 - val_accuracy: 0.9728\n",
      "Epoch 12/15\n",
      "60000/60000 [==============================] - 105s 2ms/step - loss: 0.0245 - accuracy: 0.9948 - val_loss: 0.2231 - val_accuracy: 0.9786\n",
      "Epoch 13/15\n",
      "60000/60000 [==============================] - 106s 2ms/step - loss: 0.0211 - accuracy: 0.9957 - val_loss: 0.2191 - val_accuracy: 0.9810\n",
      "Epoch 14/15\n",
      "60000/60000 [==============================] - 108s 2ms/step - loss: 0.0203 - accuracy: 0.9962 - val_loss: 0.2884 - val_accuracy: 0.9771\n",
      "Epoch 15/15\n",
      "60000/60000 [==============================] - 106s 2ms/step - loss: 0.0248 - accuracy: 0.9959 - val_loss: 0.2730 - val_accuracy: 0.9798\n"
     ]
    },
    {
     "data": {
      "text/plain": [
       "<keras.callbacks.callbacks.History at 0x653d51490>"
      ]
     },
     "execution_count": 20,
     "metadata": {},
     "output_type": "execute_result"
    }
   ],
   "source": [
    "model.fit(x_train,y_train,validation_data=(x_test,y_test),epochs=15)"
   ]
  },
  {
   "cell_type": "code",
   "execution_count": 21,
   "metadata": {},
   "outputs": [
    {
     "name": "stdout",
     "output_type": "stream",
     "text": [
      "Model: \"sequential_1\"\n",
      "_________________________________________________________________\n",
      "Layer (type)                 Output Shape              Param #   \n",
      "=================================================================\n",
      "conv2d_1 (Conv2D)            (None, 26, 26, 64)        640       \n",
      "_________________________________________________________________\n",
      "conv2d_2 (Conv2D)            (None, 22, 22, 32)        51232     \n",
      "_________________________________________________________________\n",
      "flatten_1 (Flatten)          (None, 15488)             0         \n",
      "_________________________________________________________________\n",
      "dense_1 (Dense)              (None, 10)                154890    \n",
      "=================================================================\n",
      "Total params: 206,762\n",
      "Trainable params: 206,762\n",
      "Non-trainable params: 0\n",
      "_________________________________________________________________\n"
     ]
    }
   ],
   "source": [
    "model.summary()"
   ]
  },
  {
   "cell_type": "code",
   "execution_count": 28,
   "metadata": {},
   "outputs": [],
   "source": [
    "model.save('Models/normalModel')"
   ]
  },
  {
   "cell_type": "markdown",
   "metadata": {},
   "source": [
    "## LeNet5 with tanh Activation"
   ]
  },
  {
   "cell_type": "code",
   "execution_count": 42,
   "metadata": {},
   "outputs": [],
   "source": [
    "leNet = Sequential(\n",
    "[\n",
    "    Conv2D(6,5,activation='tanh',input_shape=(28,28,1)),\n",
    "    AvgPool2D(),\n",
    "    Conv2D(16,5,activation='tanh'),\n",
    "    AvgPool2D(),\n",
    "    Flatten(),\n",
    "    Dense(120,activation='tanh'),\n",
    "    Dense(84,activation='tanh'),\n",
    "    Dense(10,activation='softmax')\n",
    "])"
   ]
  },
  {
   "cell_type": "code",
   "execution_count": 43,
   "metadata": {},
   "outputs": [],
   "source": [
    "leNet.compile(optimizer='adam',loss='categorical_crossentropy',metrics=['accuracy'])"
   ]
  },
  {
   "cell_type": "code",
   "execution_count": 45,
   "metadata": {},
   "outputs": [
    {
     "name": "stdout",
     "output_type": "stream",
     "text": [
      "Train on 60000 samples, validate on 10000 samples\n",
      "Epoch 1/15\n",
      "60000/60000 [==============================] - 35s 579us/step - loss: 0.0167 - accuracy: 0.9949 - val_loss: 0.0537 - val_accuracy: 0.9850\n",
      "Epoch 2/15\n",
      "60000/60000 [==============================] - 37s 615us/step - loss: 0.0152 - accuracy: 0.9952 - val_loss: 0.0378 - val_accuracy: 0.9881\n",
      "Epoch 3/15\n",
      "60000/60000 [==============================] - 37s 611us/step - loss: 0.0149 - accuracy: 0.9954 - val_loss: 0.0432 - val_accuracy: 0.9884\n",
      "Epoch 4/15\n",
      "60000/60000 [==============================] - 37s 611us/step - loss: 0.0143 - accuracy: 0.9952 - val_loss: 0.0397 - val_accuracy: 0.9901\n",
      "Epoch 5/15\n",
      "60000/60000 [==============================] - 37s 616us/step - loss: 0.0108 - accuracy: 0.9965 - val_loss: 0.0464 - val_accuracy: 0.9856\n",
      "Epoch 6/15\n",
      "60000/60000 [==============================] - 37s 614us/step - loss: 0.0145 - accuracy: 0.9951 - val_loss: 0.0413 - val_accuracy: 0.9885\n",
      "Epoch 7/15\n",
      "60000/60000 [==============================] - 37s 616us/step - loss: 0.0103 - accuracy: 0.9966 - val_loss: 0.0620 - val_accuracy: 0.9821\n",
      "Epoch 8/15\n",
      "60000/60000 [==============================] - 37s 616us/step - loss: 0.0114 - accuracy: 0.9963 - val_loss: 0.0514 - val_accuracy: 0.9861\n",
      "Epoch 9/15\n",
      "60000/60000 [==============================] - 37s 616us/step - loss: 0.0125 - accuracy: 0.9959 - val_loss: 0.0439 - val_accuracy: 0.9879\n",
      "Epoch 10/15\n",
      "60000/60000 [==============================] - 37s 618us/step - loss: 0.0103 - accuracy: 0.9964 - val_loss: 0.0483 - val_accuracy: 0.9867\n",
      "Epoch 11/15\n",
      "60000/60000 [==============================] - 37s 619us/step - loss: 0.0125 - accuracy: 0.9959 - val_loss: 0.0400 - val_accuracy: 0.9875\n",
      "Epoch 12/15\n",
      "60000/60000 [==============================] - 37s 617us/step - loss: 0.0091 - accuracy: 0.9969 - val_loss: 0.0402 - val_accuracy: 0.9884\n",
      "Epoch 13/15\n",
      "60000/60000 [==============================] - 37s 619us/step - loss: 0.0107 - accuracy: 0.9965 - val_loss: 0.0622 - val_accuracy: 0.9841\n",
      "Epoch 14/15\n",
      "60000/60000 [==============================] - 37s 620us/step - loss: 0.0100 - accuracy: 0.9968 - val_loss: 0.0398 - val_accuracy: 0.9885\n",
      "Epoch 15/15\n",
      "60000/60000 [==============================] - 38s 639us/step - loss: 0.0102 - accuracy: 0.9963 - val_loss: 0.0470 - val_accuracy: 0.9887\n"
     ]
    },
    {
     "data": {
      "text/plain": [
       "<keras.callbacks.callbacks.History at 0x65800c990>"
      ]
     },
     "execution_count": 45,
     "metadata": {},
     "output_type": "execute_result"
    }
   ],
   "source": [
    "leNet.fit(x_train,y_train,validation_data=(x_test,y_test),epochs=15)"
   ]
  },
  {
   "cell_type": "code",
   "execution_count": 46,
   "metadata": {},
   "outputs": [],
   "source": [
    "leNet.save('Models/leNet')"
   ]
  },
  {
   "cell_type": "code",
   "execution_count": 47,
   "metadata": {},
   "outputs": [
    {
     "name": "stdout",
     "output_type": "stream",
     "text": [
      "Model: \"sequential_5\"\n",
      "_________________________________________________________________\n",
      "Layer (type)                 Output Shape              Param #   \n",
      "=================================================================\n",
      "conv2d_9 (Conv2D)            (None, 24, 24, 6)         156       \n",
      "_________________________________________________________________\n",
      "average_pooling2d_7 (Average (None, 12, 12, 6)         0         \n",
      "_________________________________________________________________\n",
      "conv2d_10 (Conv2D)           (None, 8, 8, 16)          2416      \n",
      "_________________________________________________________________\n",
      "average_pooling2d_8 (Average (None, 4, 4, 16)          0         \n",
      "_________________________________________________________________\n",
      "flatten_5 (Flatten)          (None, 256)               0         \n",
      "_________________________________________________________________\n",
      "dense_11 (Dense)             (None, 120)               30840     \n",
      "_________________________________________________________________\n",
      "dense_12 (Dense)             (None, 84)                10164     \n",
      "_________________________________________________________________\n",
      "dense_13 (Dense)             (None, 10)                850       \n",
      "=================================================================\n",
      "Total params: 44,426\n",
      "Trainable params: 44,426\n",
      "Non-trainable params: 0\n",
      "_________________________________________________________________\n"
     ]
    }
   ],
   "source": [
    "leNet.summary()"
   ]
  },
  {
   "cell_type": "markdown",
   "metadata": {},
   "source": [
    "## LeNet5 with ReLU Activation"
   ]
  },
  {
   "cell_type": "code",
   "execution_count": 51,
   "metadata": {},
   "outputs": [],
   "source": [
    "leNetRelu = Sequential(\n",
    "[\n",
    "    Conv2D(6,5,activation='relu',input_shape=(28,28,1)),\n",
    "    AvgPool2D(),\n",
    "    Conv2D(16,5,activation='relu'),\n",
    "    AvgPool2D(),\n",
    "    Flatten(),\n",
    "    Dense(120,activation='relu'),\n",
    "    Dense(84,activation='relu'),\n",
    "    Dense(10,activation='softmax')\n",
    "])"
   ]
  },
  {
   "cell_type": "code",
   "execution_count": 52,
   "metadata": {},
   "outputs": [],
   "source": [
    "leNetRelu.compile(optimizer='adam',loss='categorical_crossentropy',metrics=['accuracy'])"
   ]
  },
  {
   "cell_type": "code",
   "execution_count": null,
   "metadata": {},
   "outputs": [
    {
     "name": "stdout",
     "output_type": "stream",
     "text": [
      "Train on 60000 samples, validate on 10000 samples\n",
      "Epoch 1/15\n",
      "60000/60000 [==============================] - 35s 581us/step - loss: 0.2266 - accuracy: 0.9402 - val_loss: 0.0884 - val_accuracy: 0.9710\n",
      "Epoch 2/15\n",
      "60000/60000 [==============================] - 36s 601us/step - loss: 0.0728 - accuracy: 0.9779 - val_loss: 0.0682 - val_accuracy: 0.9789\n",
      "Epoch 3/15\n",
      "60000/60000 [==============================] - 36s 599us/step - loss: 0.0563 - accuracy: 0.9830 - val_loss: 0.0798 - val_accuracy: 0.9756\n",
      "Epoch 4/15\n",
      " 8576/60000 [===>..........................] - ETA: 28s - loss: 0.0399 - accuracy: 0.9867"
     ]
    }
   ],
   "source": [
    "leNetRelu.fit(x_train,y_train,validation_data=(x_test,y_test),epochs=15)"
   ]
  },
  {
   "cell_type": "code",
   "execution_count": null,
   "metadata": {},
   "outputs": [],
   "source": []
  }
 ],
 "metadata": {
  "kernelspec": {
   "display_name": "Python 3",
   "language": "python",
   "name": "python3"
  },
  "language_info": {
   "codemirror_mode": {
    "name": "ipython",
    "version": 3
   },
   "file_extension": ".py",
   "mimetype": "text/x-python",
   "name": "python",
   "nbconvert_exporter": "python",
   "pygments_lexer": "ipython3",
   "version": "3.7.5"
  }
 },
 "nbformat": 4,
 "nbformat_minor": 2
}
